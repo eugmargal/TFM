{
 "cells": [
  {
   "cell_type": "markdown",
   "metadata": {},
   "source": [
    "# Aproximación del modelo SABR a través de una red neuronal"
   ]
  },
  {
   "cell_type": "markdown",
   "metadata": {},
   "source": [
    "Objetivo: obtener las volatilidades normales del modelo SABR a partir de sus correspondientes strikes, sus parámetros y el vencimiento de la opción (maturity)"
   ]
  },
  {
   "cell_type": "code",
   "execution_count": 1,
   "metadata": {},
   "outputs": [],
   "source": [
    "import pandas as pd\n",
    "import numpy as np\n",
    "import matplotlib.pyplot as plt\n",
    "import sys\n",
    "sys.path.append('C:\\\\Archivos\\\\TFM\\\\code')\n",
    "data = pd.read_csv('Smile_30_4_2019.csv', sep = ',', header = 0, index_col = False, engine = 'python')"
   ]
  },
  {
   "cell_type": "markdown",
   "metadata": {},
   "source": [
    "Importo y preparo los datos de mercado de los swaptions"
   ]
  },
  {
   "cell_type": "code",
   "execution_count": 2,
   "metadata": {},
   "outputs": [
    {
     "data": {
      "text/html": [
       "<div>\n",
       "<style scoped>\n",
       "    .dataframe tbody tr th:only-of-type {\n",
       "        vertical-align: middle;\n",
       "    }\n",
       "\n",
       "    .dataframe tbody tr th {\n",
       "        vertical-align: top;\n",
       "    }\n",
       "\n",
       "    .dataframe thead th {\n",
       "        text-align: right;\n",
       "    }\n",
       "</style>\n",
       "<table border=\"1\" class=\"dataframe\">\n",
       "  <thead>\n",
       "    <tr style=\"text-align: right;\">\n",
       "      <th></th>\n",
       "      <th>Reference</th>\n",
       "      <th>StrikeATMdiff</th>\n",
       "      <th>Forward_Rate</th>\n",
       "      <th>Volatility</th>\n",
       "    </tr>\n",
       "  </thead>\n",
       "  <tbody>\n",
       "    <tr>\n",
       "      <th>0</th>\n",
       "      <td>EUR_1M_1Y</td>\n",
       "      <td>-10</td>\n",
       "      <td>-0.003126</td>\n",
       "      <td>0.000919</td>\n",
       "    </tr>\n",
       "    <tr>\n",
       "      <th>1</th>\n",
       "      <td>EUR_1M_1Y</td>\n",
       "      <td>-7</td>\n",
       "      <td>-0.003126</td>\n",
       "      <td>0.000767</td>\n",
       "    </tr>\n",
       "    <tr>\n",
       "      <th>2</th>\n",
       "      <td>EUR_1M_1Y</td>\n",
       "      <td>-5</td>\n",
       "      <td>-0.003126</td>\n",
       "      <td>0.000668</td>\n",
       "    </tr>\n",
       "    <tr>\n",
       "      <th>3</th>\n",
       "      <td>EUR_1M_1Y</td>\n",
       "      <td>-2</td>\n",
       "      <td>-0.003126</td>\n",
       "      <td>0.000624</td>\n",
       "    </tr>\n",
       "    <tr>\n",
       "      <th>4</th>\n",
       "      <td>EUR_1M_1Y</td>\n",
       "      <td>-1</td>\n",
       "      <td>-0.003126</td>\n",
       "      <td>0.000641</td>\n",
       "    </tr>\n",
       "  </tbody>\n",
       "</table>\n",
       "</div>"
      ],
      "text/plain": [
       "   Reference  StrikeATMdiff  Forward_Rate  Volatility\n",
       "0  EUR_1M_1Y            -10     -0.003126    0.000919\n",
       "1  EUR_1M_1Y             -7     -0.003126    0.000767\n",
       "2  EUR_1M_1Y             -5     -0.003126    0.000668\n",
       "3  EUR_1M_1Y             -2     -0.003126    0.000624\n",
       "4  EUR_1M_1Y             -1     -0.003126    0.000641"
      ]
     },
     "execution_count": 2,
     "metadata": {},
     "output_type": "execute_result"
    }
   ],
   "source": [
    "data.head()"
   ]
  },
  {
   "cell_type": "code",
   "execution_count": 3,
   "metadata": {},
   "outputs": [],
   "source": [
    "data[['Currency','Maturity','IRS_duration']] = data.Reference.str.split(\"_\", expand = True)"
   ]
  },
  {
   "cell_type": "code",
   "execution_count": 4,
   "metadata": {},
   "outputs": [],
   "source": [
    "matur = data.Maturity.str.extract('(\\d+)([MY])', expand = True)"
   ]
  },
  {
   "cell_type": "code",
   "execution_count": 5,
   "metadata": {},
   "outputs": [],
   "source": [
    "T = []\n",
    "for i in range(len(matur)):\n",
    "    if matur.iloc[i,1] == 'M':\n",
    "        aux = pd.to_numeric(matur.iloc[i,0]) / 12\n",
    "        T.append(aux)\n",
    "    else:\n",
    "        T.append(matur.iloc[i,0])"
   ]
  },
  {
   "cell_type": "code",
   "execution_count": 6,
   "metadata": {},
   "outputs": [],
   "source": [
    "def strikeABS(K_bps, FR):\n",
    "    K = FR + K_bps/10000\n",
    "    return K\n",
    "\n",
    "length = int(len(data) / 11); Xmarket = np.zeros((length,23))\n",
    "for i in range(length):\n",
    "    strike = []; vol = []\n",
    "    for j in range(11):\n",
    "        Kaux = strikeABS(pd.to_numeric(data.StrikeATMdiff[j + 11*i]),pd.to_numeric(data.Forward_Rate[j + 11*i]))\n",
    "        strike.append(Kaux)\n",
    "        vol.append(pd.to_numeric(data.Volatility[j + 11*i]))\n",
    "    Xmarket[i,:] = np.hstack((strike,vol, T[11*i]))"
   ]
  },
  {
   "cell_type": "markdown",
   "metadata": {},
   "source": [
    "## Testeo de la red neuronal con los datos generados por ecuación de Hagan"
   ]
  },
  {
   "cell_type": "markdown",
   "metadata": {},
   "source": [
    "Se han generado $10^6$ muestras aleatorias del SABR, de las cuales un quinto se utilizan para validar la red neuronal. Esta red toma como inputs los strikes a los que cotizan los swaptions con mismo vencimiento de la opción y del swap, los parámetros del SABR que modelarían su precio y el vencimiento, y devuelve como output volatilidades normales para cada strike.\n",
    "\n",
    "Por cross validation sobre un nº de capas en el intervalo [3,8] y nº de neuronas por capa en [32, 64, 128, 256] el mejor resultado obtenido es 6 capas con 32 neuronas."
   ]
  },
  {
   "cell_type": "code",
   "execution_count": 7,
   "metadata": {},
   "outputs": [
    {
     "name": "stderr",
     "output_type": "stream",
     "text": [
      "Using TensorFlow backend.\n"
     ]
    },
    {
     "name": "stdout",
     "output_type": "stream",
     "text": [
      "WARNING:tensorflow:From C:\\Users\\eug_m\\Anaconda3\\lib\\site-packages\\tensorflow\\python\\framework\\op_def_library.py:263: colocate_with (from tensorflow.python.framework.ops) is deprecated and will be removed in a future version.\n",
      "Instructions for updating:\n",
      "Colocations handled automatically by placer.\n",
      "WARNING:tensorflow:From C:\\Users\\eug_m\\Anaconda3\\lib\\site-packages\\tensorflow\\python\\ops\\math_ops.py:3066: to_int32 (from tensorflow.python.ops.math_ops) is deprecated and will be removed in a future version.\n",
      "Instructions for updating:\n",
      "Use tf.cast instead.\n"
     ]
    }
   ],
   "source": [
    "from keras.models import load_model\n",
    "NN = load_model('paramstovols.h5')\n",
    "X = np.load('X_sample_vols.npy'); vols = np.load('y_sample_vols.npy');\n",
    "import SABRnormal"
   ]
  },
  {
   "cell_type": "code",
   "execution_count": 46,
   "metadata": {},
   "outputs": [
    {
     "data": {
      "image/png": "[encoded data removed]",
      "text/plain": [
       "<Figure size 432x288 with 2 Axes>"
      ]
     },
     "metadata": {
      "needs_background": "light"
     },
     "output_type": "display_data"
    }
   ],
   "source": [
    "testcase = np.random.randint(0,len(X)) ; Xtestcase = np.ravel(X[-testcase,:]);\n",
    "testvols = np.ravel(NN.predict(X[-testcase,:].reshape(1,-1)))\n",
    "\n",
    "plt.figure()\n",
    "plt.subplot(121)\n",
    "plt.plot(Xtestcase[:11], vols[-testcase,:], color = 'blue', marker = 'x', linewidth = 1.0);\n",
    "plt.plot(Xtestcase[:11],testvols, color = 'green', marker = 'o', linewidth = 1.0);\n",
    "plt.grid(True); plt.legend(['Approx','ANN']); plt.title('volatility smile')\n",
    "\n",
    "plt.subplot(122)\n",
    "plt.plot(Xtestcase[:11], (vols[-testcase,:] - testvols), linewidth = 1.0);\n",
    "plt.grid(True); plt.legend(['error']); plt.title('approximation error')\n",
    "#plt.gca().set_yticklabels(['{:.2f}%'.format(x*100) for x in plt.gca().get_yticks()]) #vol as %\n",
    "plt.tight_layout()"
   ]
  },
  {
   "cell_type": "code",
   "execution_count": 47,
   "metadata": {},
   "outputs": [
    {
     "data": {
      "text/html": [
       "<div>\n",
       "<style scoped>\n",
       "    .dataframe tbody tr th:only-of-type {\n",
       "        vertical-align: middle;\n",
       "    }\n",
       "\n",
       "    .dataframe tbody tr th {\n",
       "        vertical-align: top;\n",
       "    }\n",
       "\n",
       "    .dataframe thead th {\n",
       "        text-align: right;\n",
       "    }\n",
       "</style>\n",
       "<table border=\"1\" class=\"dataframe\">\n",
       "  <thead>\n",
       "    <tr style=\"text-align: right;\">\n",
       "      <th></th>\n",
       "      <th>-200.0</th>\n",
       "      <th>-160.0</th>\n",
       "      <th>-120.0</th>\n",
       "      <th>-80.0</th>\n",
       "      <th>-40.0</th>\n",
       "      <th>0.0</th>\n",
       "      <th>40.0</th>\n",
       "      <th>80.0</th>\n",
       "      <th>120.0</th>\n",
       "      <th>160.0</th>\n",
       "      <th>200.0</th>\n",
       "    </tr>\n",
       "  </thead>\n",
       "  <tbody>\n",
       "    <tr>\n",
       "      <th>0</th>\n",
       "      <td>0.000084</td>\n",
       "      <td>0.000072</td>\n",
       "      <td>0.000069</td>\n",
       "      <td>0.000065</td>\n",
       "      <td>0.000061</td>\n",
       "      <td>0.00005</td>\n",
       "      <td>0.000059</td>\n",
       "      <td>0.00006</td>\n",
       "      <td>0.000072</td>\n",
       "      <td>0.000077</td>\n",
       "      <td>0.000094</td>\n",
       "    </tr>\n",
       "  </tbody>\n",
       "</table>\n",
       "</div>"
      ],
      "text/plain": [
       "     -200.0    -160.0    -120.0    -80.0     -40.0     0.0       40.0   \\\n",
       "0  0.000084  0.000072  0.000069  0.000065  0.000061  0.00005  0.000059   \n",
       "\n",
       "     80.0      120.0     160.0     200.0  \n",
       "0  0.00006  0.000072  0.000077  0.000094  "
      ]
     },
     "execution_count": 47,
     "metadata": {},
     "output_type": "execute_result"
    }
   ],
   "source": [
    "testsize = 1000; error_test = np.zeros((testsize,11))\n",
    "for testcase in range(1,testsize + 1):\n",
    "    Xtestcase = np.ravel(X[-testcase,:]);\n",
    "    testvols = np.ravel(NN.predict(X[-testcase,:].reshape(1,-1)))\n",
    "    error_test[testcase-1] = (vols[-testcase,:] - testvols)\n",
    "RMSE = np.sqrt(np.sum(np.square(error_test), axis = 0)/testsize)\n",
    "title = np.linspace(-200,200,11)\n",
    "pd.DataFrame(RMSE.reshape(1,-1),index = None, columns = title)"
   ]
  },
  {
   "cell_type": "markdown",
   "metadata": {},
   "source": [
    "## Calibración del SABR mediante la red neuronal al smile de mercado"
   ]
  },
  {
   "cell_type": "code",
   "execution_count": 75,
   "metadata": {},
   "outputs": [],
   "source": [
    "from scipy.optimize import minimize\n",
    "def objfun(param,k,f,t,beta,shift,sigmaMKT):\n",
    "    \"\"\"\n",
    "        Objective function to minimize for calibration while estimating\n",
    "        the 3 parameters at the same time\n",
    "    \"\"\"\n",
    "    vbles = np.hstack((k,param,t)).reshape(1,-1)\n",
    "    vols = np.ravel(NN.predict(vbles))\n",
    "    MSE = np.sum((vols - sigmaMKT)**2)\n",
    "\n",
    "    return MSE\n",
    "\n",
    "def calibrate(k,f,t,beta,shift,sigmaMKT,seed):\n",
    "    \"\"\"\n",
    "        Calibration function for the estimation of the 3 parameters at once\n",
    "    \"\"\"\n",
    "    bnd = ( (0.0001, None), (-0.9999, 0.9999), (0.001, None)  )\n",
    "    res = minimize(objfun, seed, args = (k,f,t,beta,shift,sigmaMKT),\n",
    "                   bounds = bnd, method = 'L-BFGS-B')\n",
    "    return res.x\n"
   ]
  },
  {
   "cell_type": "markdown",
   "metadata": {},
   "source": [
    "Los datos están organizados de la siguiente forma:\n",
    " - Cada fila de la matriz X (dim 15) está organizada como: [11 strikes, $\\alpha,\\rho,\\nu,T$]\n",
    " - Cada fila de la matriz vols (dim 11) representa las 11 volatilidades diferentes que son el output de la red"
   ]
  },
  {
   "cell_type": "code",
   "execution_count": 90,
   "metadata": {},
   "outputs": [
    {
     "name": "stdout",
     "output_type": "stream",
     "text": [
      "Estimada:  [0.00677761 0.00856332 0.00698075]  ||  Real:  [0.00634096 0.59098086 0.28233639]\n"
     ]
    }
   ],
   "source": [
    "seed = [0.001,0.01,0.01]; testcase = 0\n",
    "res = calibrate(X[testcase,:11],X[testcase,5],X[testcase,-1],0,0,vols[testcase,:],seed)\n",
    "print('Estimada:  ' + str(res) + '  ||  Real:  ' + str(X[testcase,11:-1]))"
   ]
  },
  {
   "cell_type": "code",
   "execution_count": 91,
   "metadata": {},
   "outputs": [
    {
     "data": {
      "image/png": "[encoded data removed]",
      "text/plain": [
       "<Figure size 432x288 with 2 Axes>"
      ]
     },
     "metadata": {
      "needs_background": "light"
     },
     "output_type": "display_data"
    }
   ],
   "source": [
    "vol_test = []; \n",
    "for j in range(11):\n",
    "    aux = SABRnormal.normal_vol(X[testcase,j],X[testcase,5],X[testcase,-1],res[0],0,res[1],res[2],0)\n",
    "    vol_test.append(aux)\n",
    "    \n",
    "plt.figure()\n",
    "plt.subplot(121)\n",
    "plt.plot(Xtestcase[:11], vols[testcase,:], color = 'blue', marker = 'x', linewidth = 1.0);\n",
    "plt.plot(Xtestcase[:11],vol_test, color = 'green', marker = 'o', linewidth = 1.0);\n",
    "plt.grid(True); plt.legend(['Approx','ANN']); plt.title('volatility smile')\n",
    "\n",
    "plt.subplot(122)\n",
    "plt.plot(Xtestcase[:11], (vols[testcase,:] - vol_test), linewidth = 1.0);\n",
    "plt.grid(True); plt.legend(['error']); plt.title('approximation error')\n",
    "#plt.gca().set_yticklabels(['{:.2f}%'.format(x*100) for x in plt.gca().get_yticks()]) #vol as %\n",
    "plt.tight_layout()"
   ]
  }
 ],
 "metadata": {
  "kernelspec": {
   "display_name": "Python 3",
   "language": "python",
   "name": "python3"
  },
  "language_info": {
   "codemirror_mode": {
    "name": "ipython",
    "version": 3
   },
   "file_extension": ".py",
   "mimetype": "text/x-python",
   "name": "python",
   "nbconvert_exporter": "python",
   "pygments_lexer": "ipython3",
   "version": "3.7.1"
  }
 },
 "nbformat": 4,
 "nbformat_minor": 2
}
