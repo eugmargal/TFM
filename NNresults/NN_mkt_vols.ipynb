{
 "cells": [
  {
   "cell_type": "markdown",
   "metadata": {},
   "source": [
    "# Aproximación del modelo SABR a través de una red neuronal"
   ]
  },
  {
   "cell_type": "markdown",
   "metadata": {},
   "source": [
    "Objetivo: obtener las volatilidades normales del modelo SABR a partir de sus correspondientes strikes, sus parámetros y el vencimiento de la opción (maturity)"
   ]
  },
  {
   "cell_type": "code",
   "execution_count": 2,
   "metadata": {},
   "outputs": [],
   "source": [
    "import pandas as pd\n",
    "import numpy as np\n",
    "import matplotlib.pyplot as plt\n",
    "import sys\n",
    "sys.path.append('C:\\\\Archivos\\\\TFM\\\\code')\n",
    "data = pd.read_csv('Smile_30_4_2019.csv', sep = ',', header = 0, index_col = False, engine = 'python')"
   ]
  },
  {
   "cell_type": "markdown",
   "metadata": {},
   "source": [
    "Importo y preparo los datos de mercado de los swaptions"
   ]
  },
  {
   "cell_type": "code",
   "execution_count": 3,
   "metadata": {},
   "outputs": [
    {
     "data": {
      "text/html": [
       "<div>\n",
       "<style scoped>\n",
       "    .dataframe tbody tr th:only-of-type {\n",
       "        vertical-align: middle;\n",
       "    }\n",
       "\n",
       "    .dataframe tbody tr th {\n",
       "        vertical-align: top;\n",
       "    }\n",
       "\n",
       "    .dataframe thead th {\n",
       "        text-align: right;\n",
       "    }\n",
       "</style>\n",
       "<table border=\"1\" class=\"dataframe\">\n",
       "  <thead>\n",
       "    <tr style=\"text-align: right;\">\n",
       "      <th></th>\n",
       "      <th>Reference</th>\n",
       "      <th>StrikeATMdiff</th>\n",
       "      <th>Forward_Rate</th>\n",
       "      <th>Volatility</th>\n",
       "    </tr>\n",
       "  </thead>\n",
       "  <tbody>\n",
       "    <tr>\n",
       "      <th>0</th>\n",
       "      <td>EUR_1M_1Y</td>\n",
       "      <td>-10</td>\n",
       "      <td>-0.003126</td>\n",
       "      <td>0.000919</td>\n",
       "    </tr>\n",
       "    <tr>\n",
       "      <th>1</th>\n",
       "      <td>EUR_1M_1Y</td>\n",
       "      <td>-7</td>\n",
       "      <td>-0.003126</td>\n",
       "      <td>0.000767</td>\n",
       "    </tr>\n",
       "    <tr>\n",
       "      <th>2</th>\n",
       "      <td>EUR_1M_1Y</td>\n",
       "      <td>-5</td>\n",
       "      <td>-0.003126</td>\n",
       "      <td>0.000668</td>\n",
       "    </tr>\n",
       "    <tr>\n",
       "      <th>3</th>\n",
       "      <td>EUR_1M_1Y</td>\n",
       "      <td>-2</td>\n",
       "      <td>-0.003126</td>\n",
       "      <td>0.000624</td>\n",
       "    </tr>\n",
       "    <tr>\n",
       "      <th>4</th>\n",
       "      <td>EUR_1M_1Y</td>\n",
       "      <td>-1</td>\n",
       "      <td>-0.003126</td>\n",
       "      <td>0.000641</td>\n",
       "    </tr>\n",
       "  </tbody>\n",
       "</table>\n",
       "</div>"
      ],
      "text/plain": [
       "   Reference  StrikeATMdiff  Forward_Rate  Volatility\n",
       "0  EUR_1M_1Y            -10     -0.003126    0.000919\n",
       "1  EUR_1M_1Y             -7     -0.003126    0.000767\n",
       "2  EUR_1M_1Y             -5     -0.003126    0.000668\n",
       "3  EUR_1M_1Y             -2     -0.003126    0.000624\n",
       "4  EUR_1M_1Y             -1     -0.003126    0.000641"
      ]
     },
     "execution_count": 3,
     "metadata": {},
     "output_type": "execute_result"
    }
   ],
   "source": [
    "data.head()"
   ]
  },
  {
   "cell_type": "code",
   "execution_count": 4,
   "metadata": {},
   "outputs": [],
   "source": [
    "data[['Currency','Maturity','IRS_duration']] = data.Reference.str.split(\"_\", expand = True)"
   ]
  },
  {
   "cell_type": "code",
   "execution_count": 5,
   "metadata": {},
   "outputs": [],
   "source": [
    "matur = data.Maturity.str.extract('(\\d+)([MY])', expand = True)"
   ]
  },
  {
   "cell_type": "code",
   "execution_count": 6,
   "metadata": {},
   "outputs": [],
   "source": [
    "T = []\n",
    "for i in range(len(matur)):\n",
    "    if matur.iloc[i,1] == 'M':\n",
    "        aux = pd.to_numeric(matur.iloc[i,0]) / 12\n",
    "        T.append(aux)\n",
    "    else:\n",
    "        T.append(matur.iloc[i,0])"
   ]
  },
  {
   "cell_type": "code",
   "execution_count": 7,
   "metadata": {},
   "outputs": [],
   "source": [
    "def strikeABS(K_bps, FR):\n",
    "    K = FR + K_bps/10000\n",
    "    return K\n",
    "\n",
    "length = int(len(data) / 11); Xmarket = np.zeros((length,23))\n",
    "for i in range(length):\n",
    "    strike = []; vol = []\n",
    "    for j in range(11):\n",
    "        Kaux = strikeABS(pd.to_numeric(data.StrikeATMdiff[j + 11*i]),pd.to_numeric(data.Forward_Rate[j + 11*i]))\n",
    "        strike.append(Kaux)\n",
    "        vol.append(pd.to_numeric(data.Volatility[j + 11*i]))\n",
    "    Xmarket[i,:] = np.hstack((strike,vol, T[11*i]))"
   ]
  },
  {
   "cell_type": "markdown",
   "metadata": {},
   "source": [
    "## Testeo de la red neuronal con los datos generados por ecuación de Hagan"
   ]
  },
  {
   "cell_type": "markdown",
   "metadata": {},
   "source": [
    "Se han generado $10^6$ muestras aleatorias del SABR, de las cuales un quinto se utilizan para validar la red neuronal. Esta red toma como inputs los strikes a los que cotizan los swaptions con mismo vencimiento de la opción y del swap, los parámetros del SABR que modelarían su precio y el vencimiento, y devuelve como output volatilidades normales para cada strike.\n",
    "\n",
    "Por cross validation sobre un nº de capas en el intervalo [3,8] y nº de neuronas por capa en [32, 64, 128, 256] el mejor resultado obtenido es 6 capas con 32 neuronas."
   ]
  },
  {
   "cell_type": "code",
   "execution_count": 10,
   "metadata": {},
   "outputs": [
    {
     "name": "stdout",
     "output_type": "stream",
     "text": [
      "WARNING:tensorflow:From C:\\Users\\eug_m\\Anaconda3\\lib\\site-packages\\tensorflow\\python\\ops\\math_ops.py:3066: to_int32 (from tensorflow.python.ops.math_ops) is deprecated and will be removed in a future version.\n",
      "Instructions for updating:\n",
      "Use tf.cast instead.\n"
     ]
    }
   ],
   "source": [
    "from keras import backend as K\n",
    "# Set double precision so everithing works fine in calibration ...\n",
    "K.set_floatx('float64')\n",
    "from keras.models import load_model\n",
    "NN = load_model('paramstovols_fl64.h5')\n",
    "X = np.load('X_sample_vols.npy'); vols = np.load('y_sample_vols.npy');\n",
    "import SABRnormal"
   ]
  },
  {
   "cell_type": "code",
   "execution_count": 12,
   "metadata": {},
   "outputs": [
    {
     "data": {
      "image/png": "[encoded data removed]",
      "text/plain": [
       "<Figure size 432x288 with 2 Axes>"
      ]
     },
     "metadata": {
      "needs_background": "light"
     },
     "output_type": "display_data"
    }
   ],
   "source": [
    "testcase = np.random.randint(0,len(X)) ; Xtestcase = np.ravel(X[-testcase,:]);\n",
    "testvols = np.ravel(NN.predict(X[-testcase,:].reshape(1,-1)))\n",
    "\n",
    "plt.figure()\n",
    "plt.subplot(121)\n",
    "plt.plot(Xtestcase[:11], vols[-testcase,:], color = 'blue', marker = 'x', linewidth = 1.0);\n",
    "plt.plot(Xtestcase[:11],testvols, color = 'green', marker = 'o', linewidth = 1.0);\n",
    "plt.grid(True); plt.legend(['Approx','ANN']); plt.title('volatility smile')\n",
    "\n",
    "plt.subplot(122)\n",
    "plt.plot(Xtestcase[:11], (vols[-testcase,:] - testvols), linewidth = 1.0);\n",
    "plt.grid(True); plt.legend(['error']); plt.title('approximation error')\n",
    "#plt.gca().set_yticklabels(['{:.2f}%'.format(x*100) for x in plt.gca().get_yticks()]) #vol as %\n",
    "plt.tight_layout()"
   ]
  },
  {
   "cell_type": "code",
   "execution_count": 14,
   "metadata": {},
   "outputs": [
    {
     "data": {
      "text/html": [
       "<div>\n",
       "<style scoped>\n",
       "    .dataframe tbody tr th:only-of-type {\n",
       "        vertical-align: middle;\n",
       "    }\n",
       "\n",
       "    .dataframe tbody tr th {\n",
       "        vertical-align: top;\n",
       "    }\n",
       "\n",
       "    .dataframe thead th {\n",
       "        text-align: right;\n",
       "    }\n",
       "</style>\n",
       "<table border=\"1\" class=\"dataframe\">\n",
       "  <thead>\n",
       "    <tr style=\"text-align: right;\">\n",
       "      <th></th>\n",
       "      <th>-200.0</th>\n",
       "      <th>-160.0</th>\n",
       "      <th>-120.0</th>\n",
       "      <th>-80.0</th>\n",
       "      <th>-40.0</th>\n",
       "      <th>0.0</th>\n",
       "      <th>40.0</th>\n",
       "      <th>80.0</th>\n",
       "      <th>120.0</th>\n",
       "      <th>160.0</th>\n",
       "      <th>200.0</th>\n",
       "    </tr>\n",
       "  </thead>\n",
       "  <tbody>\n",
       "    <tr>\n",
       "      <th>0</th>\n",
       "      <td>0.000076</td>\n",
       "      <td>0.000063</td>\n",
       "      <td>0.000065</td>\n",
       "      <td>0.000062</td>\n",
       "      <td>0.000067</td>\n",
       "      <td>0.000053</td>\n",
       "      <td>0.000059</td>\n",
       "      <td>0.000069</td>\n",
       "      <td>0.000068</td>\n",
       "      <td>0.000072</td>\n",
       "      <td>0.000073</td>\n",
       "    </tr>\n",
       "  </tbody>\n",
       "</table>\n",
       "</div>"
      ],
      "text/plain": [
       "     -200.0    -160.0    -120.0    -80.0     -40.0      0.0       40.0   \\\n",
       "0  0.000076  0.000063  0.000065  0.000062  0.000067  0.000053  0.000059   \n",
       "\n",
       "      80.0      120.0     160.0     200.0  \n",
       "0  0.000069  0.000068  0.000072  0.000073  "
      ]
     },
     "execution_count": 14,
     "metadata": {},
     "output_type": "execute_result"
    }
   ],
   "source": [
    "testsize = 1000; error_test = np.zeros((testsize,11))\n",
    "for testcase in range(1,testsize + 1):\n",
    "    Xtestcase = np.ravel(X[-testcase,:]);\n",
    "    testvols = np.ravel(NN.predict(X[-testcase,:].reshape(1,-1)))\n",
    "    error_test[testcase-1] = (vols[-testcase,:] - testvols)\n",
    "RMSE = np.sqrt(np.sum(np.square(error_test), axis = 0)/testsize)\n",
    "title = np.linspace(-200,200,11)\n",
    "pd.DataFrame(RMSE.reshape(1,-1),index = None, columns = title)"
   ]
  }
 ],
 "metadata": {
  "kernelspec": {
   "display_name": "Python 3",
   "language": "python",
   "name": "python3"
  },
  "language_info": {
   "codemirror_mode": {
    "name": "ipython",
    "version": 3
   },
   "file_extension": ".py",
   "mimetype": "text/x-python",
   "name": "python",
   "nbconvert_exporter": "python",
   "pygments_lexer": "ipython3",
   "version": "3.7.1"
  }
 },
 "nbformat": 4,
 "nbformat_minor": 2
}
