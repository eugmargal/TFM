{
 "cells": [
  {
   "cell_type": "markdown",
   "metadata": {},
   "source": [
    "# Aproximación del modelo SABR a través de una red neuronal"
   ]
  },
  {
   "cell_type": "markdown",
   "metadata": {},
   "source": [
    "Objetivo: obtener los parámetros del SABR $ \\alpha, \\rho, \\nu$ para un smile dado, tomando como inputs de la red los precios de ejercicio junto a sus correspondientes volatilidades normales y el tiempo a vencimiento de la opción (maturity)."
   ]
  },
  {
   "cell_type": "code",
   "execution_count": 1,
   "metadata": {},
   "outputs": [],
   "source": [
    "import pandas as pd\n",
    "import numpy as np\n",
    "import matplotlib.pyplot as plt\n",
    "import sys\n",
    "sys.path.append('C:\\\\Archivos\\\\TFM\\\\code')\n",
    "data = pd.read_csv('Smile_30_4_2019.csv', sep = ',', header = 0, index_col = False, engine = 'python')"
   ]
  },
  {
   "cell_type": "markdown",
   "metadata": {},
   "source": [
    "Importo y preparo los datos de mercado de los swaptions"
   ]
  },
  {
   "cell_type": "code",
   "execution_count": 2,
   "metadata": {},
   "outputs": [
    {
     "data": {
      "text/html": [
       "<div>\n",
       "<style scoped>\n",
       "    .dataframe tbody tr th:only-of-type {\n",
       "        vertical-align: middle;\n",
       "    }\n",
       "\n",
       "    .dataframe tbody tr th {\n",
       "        vertical-align: top;\n",
       "    }\n",
       "\n",
       "    .dataframe thead th {\n",
       "        text-align: right;\n",
       "    }\n",
       "</style>\n",
       "<table border=\"1\" class=\"dataframe\">\n",
       "  <thead>\n",
       "    <tr style=\"text-align: right;\">\n",
       "      <th></th>\n",
       "      <th>Reference</th>\n",
       "      <th>StrikeATMdiff</th>\n",
       "      <th>Forward_Rate</th>\n",
       "      <th>Volatility</th>\n",
       "    </tr>\n",
       "  </thead>\n",
       "  <tbody>\n",
       "    <tr>\n",
       "      <th>0</th>\n",
       "      <td>EUR_1M_1Y</td>\n",
       "      <td>-10</td>\n",
       "      <td>-0.003126</td>\n",
       "      <td>0.000919</td>\n",
       "    </tr>\n",
       "    <tr>\n",
       "      <th>1</th>\n",
       "      <td>EUR_1M_1Y</td>\n",
       "      <td>-7</td>\n",
       "      <td>-0.003126</td>\n",
       "      <td>0.000767</td>\n",
       "    </tr>\n",
       "    <tr>\n",
       "      <th>2</th>\n",
       "      <td>EUR_1M_1Y</td>\n",
       "      <td>-5</td>\n",
       "      <td>-0.003126</td>\n",
       "      <td>0.000668</td>\n",
       "    </tr>\n",
       "    <tr>\n",
       "      <th>3</th>\n",
       "      <td>EUR_1M_1Y</td>\n",
       "      <td>-2</td>\n",
       "      <td>-0.003126</td>\n",
       "      <td>0.000624</td>\n",
       "    </tr>\n",
       "    <tr>\n",
       "      <th>4</th>\n",
       "      <td>EUR_1M_1Y</td>\n",
       "      <td>-1</td>\n",
       "      <td>-0.003126</td>\n",
       "      <td>0.000641</td>\n",
       "    </tr>\n",
       "  </tbody>\n",
       "</table>\n",
       "</div>"
      ],
      "text/plain": [
       "   Reference  StrikeATMdiff  Forward_Rate  Volatility\n",
       "0  EUR_1M_1Y            -10     -0.003126    0.000919\n",
       "1  EUR_1M_1Y             -7     -0.003126    0.000767\n",
       "2  EUR_1M_1Y             -5     -0.003126    0.000668\n",
       "3  EUR_1M_1Y             -2     -0.003126    0.000624\n",
       "4  EUR_1M_1Y             -1     -0.003126    0.000641"
      ]
     },
     "execution_count": 2,
     "metadata": {},
     "output_type": "execute_result"
    }
   ],
   "source": [
    "data.head()"
   ]
  },
  {
   "cell_type": "code",
   "execution_count": 3,
   "metadata": {},
   "outputs": [],
   "source": [
    "data[['Currency','Maturity','IRS_duration']] = data.Reference.str.split(\"_\", expand = True)"
   ]
  },
  {
   "cell_type": "code",
   "execution_count": 4,
   "metadata": {},
   "outputs": [],
   "source": [
    "matur = data.Maturity.str.extract('(\\d+)([MY])', expand = True)"
   ]
  },
  {
   "cell_type": "code",
   "execution_count": 5,
   "metadata": {},
   "outputs": [],
   "source": [
    "T = []\n",
    "for i in range(len(matur)):\n",
    "    if matur.iloc[i,1] == 'M':\n",
    "        aux = pd.to_numeric(matur.iloc[i,0]) / 12\n",
    "        T.append(aux)\n",
    "    else:\n",
    "        T.append(matur.iloc[i,0])"
   ]
  },
  {
   "cell_type": "code",
   "execution_count": 6,
   "metadata": {},
   "outputs": [],
   "source": [
    "def strikeABS(K_bps, FR):\n",
    "    K = FR + K_bps/10000\n",
    "    return K\n",
    "\n",
    "length = int(len(data) / 11); Xmarket = np.zeros((length,23))\n",
    "for i in range(length):\n",
    "    strike = []; vol = []\n",
    "    for j in range(11):\n",
    "        Kaux = strikeABS(pd.to_numeric(data.StrikeATMdiff[j + 11*i]),pd.to_numeric(data.Forward_Rate[j + 11*i]))\n",
    "        strike.append(Kaux)\n",
    "        vol.append(pd.to_numeric(data.Volatility[j + 11*i]))\n",
    "    Xmarket[i,:] = np.hstack((strike,vol, T[11*i]))"
   ]
  },
  {
   "cell_type": "markdown",
   "metadata": {},
   "source": [
    "## Testeo de la red neuronal con los datos generados a partir de la ecuación de Hagan"
   ]
  },
  {
   "cell_type": "markdown",
   "metadata": {},
   "source": [
    "Con este fin comparamos la volatilidad normal para los distintos strikes obtenida por la red neuronal con la utilizada para obtener las volatilidades. En la primera ventana de test se puede ver las volatilidades obtenidas por ambos métodos para una muestra aleatoria del Test Set utilizado para entrenar la red neuronal, mientras que en la segunda aparece el error relativo entre estas dos volatilidades.\n",
    "\n",
    "La red neuronal tiene 6 capas y 64 neuronas con función de activación 'elu' en las capas ocultas, que es la combinación obtenida mediante cross validation, para un rango de nº de capas en el intervalo [3,4,5,6,7,8] y nº de neuronas por capa en [32, 64, 128, 256]."
   ]
  },
  {
   "cell_type": "code",
   "execution_count": 7,
   "metadata": {},
   "outputs": [
    {
     "name": "stderr",
     "output_type": "stream",
     "text": [
      "Using TensorFlow backend.\n"
     ]
    },
    {
     "name": "stdout",
     "output_type": "stream",
     "text": [
      "WARNING:tensorflow:From C:\\Users\\eug_m\\Anaconda3\\lib\\site-packages\\tensorflow\\python\\framework\\op_def_library.py:263: colocate_with (from tensorflow.python.framework.ops) is deprecated and will be removed in a future version.\n",
      "Instructions for updating:\n",
      "Colocations handled automatically by placer.\n",
      "WARNING:tensorflow:From C:\\Users\\eug_m\\Anaconda3\\lib\\site-packages\\tensorflow\\python\\ops\\math_ops.py:3066: to_int32 (from tensorflow.python.ops.math_ops) is deprecated and will be removed in a future version.\n",
      "Instructions for updating:\n",
      "Use tf.cast instead.\n"
     ]
    }
   ],
   "source": [
    "from keras.models import load_model\n",
    "NN = load_model('volstoparams_scale.h5')\n",
    "X = np.load('X_sample.npy'); y = np.load('y_sample.npy');\n",
    "import SABRnormal"
   ]
  },
  {
   "cell_type": "code",
   "execution_count": 13,
   "metadata": {},
   "outputs": [
    {
     "data": {
      "image/png": "[encoded data removed]",
      "text/plain": [
       "<Figure size 432x288 with 2 Axes>"
      ]
     },
     "metadata": {
      "needs_background": "light"
     },
     "output_type": "display_data"
    }
   ],
   "source": [
    "testcase = np.random.randint(0,len(X)) ; Xtestcase = np.ravel(X[-testcase,:]);\n",
    "testparams = np.ravel(NN.predict(X[-testcase,:].reshape(1,-1)))\n",
    "from sklearn import preprocessing\n",
    "scaler = preprocessing.MinMaxScaler()\n",
    "scaler.fit(y[:,0].reshape(-1,1))\n",
    "testparams[0] = scaler.inverse_transform(testparams[0].reshape(-1,1))\n",
    "vol_test = []; \n",
    "for j in range(11):\n",
    "    aux = SABRnormal.normal_vol(Xtestcase[j],Xtestcase[5],Xtestcase[-1],testparams[0],0,testparams[1],testparams[2],0)\n",
    "    vol_test.append(aux)\n",
    "\n",
    "plt.figure()\n",
    "plt.subplot(121)\n",
    "plt.plot(Xtestcase[:11], Xtestcase[11:-1], color = 'blue', marker = 'x', linewidth = 1.0);\n",
    "plt.plot(Xtestcase[:11],np.array(vol_test), color = 'green', marker = 'o', linewidth = 1.0);\n",
    "plt.grid(True); plt.legend(['Approx','ANN']); plt.title('volatility smile')\n",
    "\n",
    "plt.subplot(122)\n",
    "plt.plot(Xtestcase[:11], (Xtestcase[11:-1] - np.squeeze(vol_test))/Xtestcase[11:-1], linewidth = 1.0);\n",
    "plt.grid(True); plt.legend(['error']); plt.title('approximation error')\n",
    "plt.gca().set_yticklabels(['{:.2f}%'.format(x*100) for x in plt.gca().get_yticks()]) #vol as %\n",
    "plt.tight_layout()"
   ]
  },
  {
   "cell_type": "markdown",
   "metadata": {},
   "source": [
    "En general observando los resultados creo que cuando no fitea perfectamente se debe a que hay un error en el nivel de la curva ya que casi siempre aparece desplazada, por tanto creo que la red no estima del todo bien el valor de $\\alpha$."
   ]
  },
  {
   "cell_type": "markdown",
   "metadata": {},
   "source": [
    "En la siguiente tabla se muestra el error de mapeo para cada Strike (en bp) a través de la métrica RMSE."
   ]
  },
  {
   "cell_type": "code",
   "execution_count": 9,
   "metadata": {},
   "outputs": [
    {
     "data": {
      "text/html": [
       "<div>\n",
       "<style scoped>\n",
       "    .dataframe tbody tr th:only-of-type {\n",
       "        vertical-align: middle;\n",
       "    }\n",
       "\n",
       "    .dataframe tbody tr th {\n",
       "        vertical-align: top;\n",
       "    }\n",
       "\n",
       "    .dataframe thead th {\n",
       "        text-align: right;\n",
       "    }\n",
       "</style>\n",
       "<table border=\"1\" class=\"dataframe\">\n",
       "  <thead>\n",
       "    <tr style=\"text-align: right;\">\n",
       "      <th></th>\n",
       "      <th>-200.0</th>\n",
       "      <th>-160.0</th>\n",
       "      <th>-120.0</th>\n",
       "      <th>-80.0</th>\n",
       "      <th>-40.0</th>\n",
       "      <th>0.0</th>\n",
       "      <th>40.0</th>\n",
       "      <th>80.0</th>\n",
       "      <th>120.0</th>\n",
       "      <th>160.0</th>\n",
       "      <th>200.0</th>\n",
       "    </tr>\n",
       "  </thead>\n",
       "  <tbody>\n",
       "    <tr>\n",
       "      <th>0</th>\n",
       "      <td>0.000228</td>\n",
       "      <td>0.000192</td>\n",
       "      <td>0.000156</td>\n",
       "      <td>0.00012</td>\n",
       "      <td>0.000087</td>\n",
       "      <td>0.000067</td>\n",
       "      <td>0.000086</td>\n",
       "      <td>0.000118</td>\n",
       "      <td>0.000153</td>\n",
       "      <td>0.000189</td>\n",
       "      <td>0.000225</td>\n",
       "    </tr>\n",
       "  </tbody>\n",
       "</table>\n",
       "</div>"
      ],
      "text/plain": [
       "     -200.0    -160.0    -120.0   -80.0     -40.0      0.0       40.0   \\\n",
       "0  0.000228  0.000192  0.000156  0.00012  0.000087  0.000067  0.000086   \n",
       "\n",
       "      80.0      120.0     160.0     200.0  \n",
       "0  0.000118  0.000153  0.000189  0.000225  "
      ]
     },
     "execution_count": 9,
     "metadata": {},
     "output_type": "execute_result"
    }
   ],
   "source": [
    "testsize = 1000; error_test = np.zeros((testsize,11))\n",
    "for testcase in range(1,testsize + 1):\n",
    "    Xtestcase = np.ravel(X[-testcase,:]);\n",
    "    testparams = np.ravel(NN.predict(X[-testcase,:].reshape(1,-1)))\n",
    "    testparams[0] = scaler.inverse_transform(testparams[0].reshape(-1,1))\n",
    "    vol_test = []; \n",
    "    for j in range(11):\n",
    "        aux = SABRnormal.normal_vol(Xtestcase[j],Xtestcase[5],Xtestcase[-1],testparams[0],0,testparams[1],testparams[2],0)\n",
    "        vol_test.append(aux)\n",
    "    error_test[testcase-1] = (Xtestcase[11:-1] - vol_test)\n",
    "RMSE = np.sqrt(np.sum(np.square(error_test), axis = 0)/testsize)\n",
    "title = np.linspace(-200,200,11)\n",
    "pd.DataFrame(RMSE.reshape(1,-1),index = None, columns = title)"
   ]
  },
  {
   "cell_type": "markdown",
   "metadata": {},
   "source": [
    "Parece que la red neuronal reduce su error en el tramo central respecto a los strikes más extremos"
   ]
  },
  {
   "cell_type": "markdown",
   "metadata": {},
   "source": [
    "## Testeo de la red neuronal con datos de mercado"
   ]
  },
  {
   "cell_type": "markdown",
   "metadata": {},
   "source": [
    "Ahora veremos como de bien ajusta la red neuronal a un set completo de Swaptions."
   ]
  },
  {
   "cell_type": "code",
   "execution_count": 10,
   "metadata": {},
   "outputs": [],
   "source": [
    "parameters = np.zeros((len(Xmarket),3))\n",
    "for i in range(len(Xmarket)):\n",
    "    parameters[i] = NN.predict(Xmarket[i,:].reshape(1,-1))\n",
    "    parameters[i,0] = scaler.inverse_transform(parameters[i,0].reshape(-1,1))"
   ]
  },
  {
   "cell_type": "code",
   "execution_count": 11,
   "metadata": {},
   "outputs": [
    {
     "name": "stdout",
     "output_type": "stream",
     "text": [
      "Maturity: 25.0 Forward Rate:0.011478626836\n"
     ]
    },
    {
     "data": {
      "image/png": "[encoded data removed]",
      "text/plain": [
       "<Figure size 432x288 with 2 Axes>"
      ]
     },
     "metadata": {
      "needs_background": "light"
     },
     "output_type": "display_data"
    }
   ],
   "source": [
    "import SABRnormal\n",
    "import matplotlib.pyplot as plt\n",
    "testcase = np.random.randint(0,len(Xmarket)-1);\n",
    "Xtestcase = np.ravel(Xmarket[testcase,:]);\n",
    "vol_test = []; \n",
    "for j in range(11):\n",
    "    aux = SABRnormal.normal_vol(Xtestcase[j],Xtestcase[4],Xtestcase[-1],parameters[testcase,0],0,parameters[testcase,1]*1.1,parameters[testcase,2],0)\n",
    "    vol_test.append(aux)\n",
    "print('Maturity: ' + str(Xmarket[testcase,-1]) + ' Forward Rate:' + str(Xmarket[testcase,5]))\n",
    "plt.figure()\n",
    "plt.subplot(121)\n",
    "plt.plot(Xtestcase[:11], Xtestcase[11:-1], color = 'blue', marker = 'x', linewidth = 1.0);\n",
    "plt.plot(Xtestcase[:11],np.array(vol_test), color = 'green', marker = 'o', linewidth = 1.0);\n",
    "plt.grid(True); plt.legend(['Market','ANN']); plt.title('volatility smile')\n",
    "\n",
    "plt.subplot(122)\n",
    "plt.plot(Xtestcase[:11], (Xtestcase[11:-1] - np.ravel(vol_test))/Xtestcase[11:-1], linewidth = 1.0);\n",
    "plt.grid(True); plt.legend(['error']); plt.title('Relative Error')\n",
    "plt.gca().set_yticklabels(['{:.2f}%'.format(x*100) for x in plt.gca().get_yticks()]) #vol as %\n",
    "plt.tight_layout()"
   ]
  },
  {
   "cell_type": "code",
   "execution_count": 12,
   "metadata": {},
   "outputs": [
    {
     "data": {
      "text/html": [
       "<div>\n",
       "<style scoped>\n",
       "    .dataframe tbody tr th:only-of-type {\n",
       "        vertical-align: middle;\n",
       "    }\n",
       "\n",
       "    .dataframe tbody tr th {\n",
       "        vertical-align: top;\n",
       "    }\n",
       "\n",
       "    .dataframe thead th {\n",
       "        text-align: right;\n",
       "    }\n",
       "</style>\n",
       "<table border=\"1\" class=\"dataframe\">\n",
       "  <thead>\n",
       "    <tr style=\"text-align: right;\">\n",
       "      <th></th>\n",
       "      <th>-200.0</th>\n",
       "      <th>-160.0</th>\n",
       "      <th>-120.0</th>\n",
       "      <th>-80.0</th>\n",
       "      <th>-40.0</th>\n",
       "      <th>0.0</th>\n",
       "      <th>40.0</th>\n",
       "      <th>80.0</th>\n",
       "      <th>120.0</th>\n",
       "      <th>160.0</th>\n",
       "      <th>200.0</th>\n",
       "    </tr>\n",
       "  </thead>\n",
       "  <tbody>\n",
       "    <tr>\n",
       "      <th>0</th>\n",
       "      <td>0.003183</td>\n",
       "      <td>0.003129</td>\n",
       "      <td>0.00306</td>\n",
       "      <td>0.002996</td>\n",
       "      <td>0.002945</td>\n",
       "      <td>0.002919</td>\n",
       "      <td>0.002898</td>\n",
       "      <td>0.002913</td>\n",
       "      <td>0.002948</td>\n",
       "      <td>0.003078</td>\n",
       "      <td>0.003316</td>\n",
       "    </tr>\n",
       "  </tbody>\n",
       "</table>\n",
       "</div>"
      ],
      "text/plain": [
       "     -200.0    -160.0   -120.0    -80.0     -40.0      0.0       40.0   \\\n",
       "0  0.003183  0.003129  0.00306  0.002996  0.002945  0.002919  0.002898   \n",
       "\n",
       "      80.0      120.0     160.0     200.0  \n",
       "0  0.002913  0.002948  0.003078  0.003316  "
      ]
     },
     "execution_count": 12,
     "metadata": {},
     "output_type": "execute_result"
    }
   ],
   "source": [
    "error_test = np.zeros((len(Xmarket),11))\n",
    "for testcase in range(len(Xmarket)):\n",
    "    Xtestcase = np.ravel(Xmarket[testcase,:]);\n",
    "    testparams = np.ravel(NN.predict(X[testcase,:].reshape(1,-1)))\n",
    "    testparams[0] = scaler.inverse_transform(testparams[0].reshape(-1,1))\n",
    "    vol_test = []; \n",
    "    for j in range(11):\n",
    "        aux = SABRnormal.normal_vol(Xtestcase[j],Xtestcase[5],Xtestcase[-1],testparams[0],0,testparams[1],testparams[2],0)\n",
    "        vol_test.append(aux)\n",
    "    error_test[testcase] = (Xtestcase[11:-1] - vol_test)\n",
    "RMSE = np.sqrt(np.sum(np.square(error_test), axis = 0)/testsize)\n",
    "title = np.linspace(-200,200,11)\n",
    "pd.DataFrame(RMSE.reshape(1,-1),index = None, columns = title)"
   ]
  },
  {
   "cell_type": "code",
   "execution_count": null,
   "metadata": {},
   "outputs": [],
   "source": []
  }
 ],
 "metadata": {
  "kernelspec": {
   "display_name": "Python 3",
   "language": "python",
   "name": "python3"
  },
  "language_info": {
   "codemirror_mode": {
    "name": "ipython",
    "version": 3
   },
   "file_extension": ".py",
   "mimetype": "text/x-python",
   "name": "python",
   "nbconvert_exporter": "python",
   "pygments_lexer": "ipython3",
   "version": "3.7.1"
  }
 },
 "nbformat": 4,
 "nbformat_minor": 2
}
