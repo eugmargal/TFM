{
 "cells": [
  {
   "cell_type": "code",
   "execution_count": 1,
   "metadata": {},
   "outputs": [],
   "source": [
    "import numpy as np\n",
    "import matplotlib.pyplot as plt\n",
    "\n",
    "sample = 500000\n",
    "shift = 0; beta = 0;\n",
    "\n",
    "# alpha, rho, nu\n",
    "params = np.random.random_sample((sample,3))*[1.49999, 1.96, 0.69999] + [0.00001, -0.98, 0.00001]\n",
    "\n",
    "T = np.random.randint(1,30,sample)\n",
    "F0 = np.random.random_sample(sample)*0.0299 + 0.0201\n",
    "Kpb = np.linspace(-200,200,9); K = []\n",
    "for i in range(len(F0)):\n",
    "    K.append(F0[i] + Kpb/10000)"
   ]
  },
  {
   "cell_type": "code",
   "execution_count": 11,
   "metadata": {},
   "outputs": [],
   "source": [
    "### GENERATE THE SABR VOLS ###\n",
    "\n",
    "import SABRnormal\n",
    "vol_input = []\n",
    "for i in range(sample):\n",
    "    vol_input_ind = []\n",
    "    for j in range(len(Kpb)):\n",
    "        aux = SABRnormal.normal_vol(K[i][j],F0[i],T[i],params[i][0],beta,params[i][1],params[i][2],shift)\n",
    "        vol_input_ind.append(aux)\n",
    "    vol_input.append(vol_input_ind)"
   ]
  },
  {
   "cell_type": "code",
   "execution_count": 12,
   "metadata": {},
   "outputs": [],
   "source": [
    "### Create the matrix of inputs ###\n",
    "K = np.matrix(K); vol_input = np.matrix(vol_input)\n",
    "# The order is: [K (vector of strikes), sigma (vector of vols), F0, T]\n",
    "X = np.hstack((K,np.matrix(F0).T,vol_input,np.matrix(T).T))\n",
    "\n",
    "# Create data input and output for neural network\n",
    "# The output to predict will be the parameters alpha, rho, nu\n",
    "X_train = X[:int(0.8*sample)]; X_test = X[int(0.8*sample):]\n",
    "y_train = params[:int(0.8*sample)]; y_test = params[int(0.8*sample):]\n",
    "\n",
    "#plt.figure()\n",
    "#plt.plot(K[0][:],vol_input[0][:],'rx');\n",
    "\n",
    "from sklearn import preprocessing\n",
    "X_train = preprocessing.scale(X_train)\n",
    "X_test = preprocessing.scale(X_test)"
   ]
  },
  {
   "cell_type": "code",
   "execution_count": 13,
   "metadata": {},
   "outputs": [
    {
     "name": "stderr",
     "output_type": "stream",
     "text": [
      "Using TensorFlow backend.\n"
     ]
    },
    {
     "name": "stdout",
     "output_type": "stream",
     "text": [
      "WARNING:tensorflow:From C:\\Users\\eug_m\\Anaconda3\\lib\\site-packages\\tensorflow\\python\\framework\\op_def_library.py:263: colocate_with (from tensorflow.python.framework.ops) is deprecated and will be removed in a future version.\n",
      "Instructions for updating:\n",
      "Colocations handled automatically by placer.\n"
     ]
    }
   ],
   "source": [
    "### NEURAL NETWORK ###\n",
    "import keras\n",
    "from keras.models import Sequential\n",
    "from keras.layers import Dense\n",
    "from keras.callbacks import ReduceLROnPlateau, EarlyStopping\n",
    "from keras import regularizers\n",
    "\n",
    "model = Sequential()\n",
    "model.add(Dense(256, activation='elu', input_dim = 20, kernel_initializer='he_uniform'))\n",
    "model.add(Dense(128, activation='elu', kernel_initializer='he_uniform'))\n",
    "model.add(Dense(64, activation='elu', kernel_initializer='he_uniform'))\n",
    "model.add(Dense(32, activation='elu', kernel_initializer='he_uniform'))\n",
    "model.add(Dense(3))\n",
    "\n",
    "#model.add(Dense(30, activation='elu', input_dim = 20, kernel_initializer='he_uniform'))\n",
    "#model.add(Dense(30, activation='elu',  kernel_initializer='he_uniform'))\n",
    "#model.add(Dense(30, activation='elu', kernel_initializer='he_uniform'))\n",
    "#model.add(Dense(30, activation='elu', kernel_initializer='he_uniform'))\n",
    "#model.add(Dense(3))\n",
    "\n",
    "sgd = keras.optimizers.Adam(lr=0.001)\n",
    "model.compile(loss=keras.losses.mean_squared_error,\n",
    "              optimizer=sgd,\n",
    "              metrics=['mae'])  "
   ]
  },
  {
   "cell_type": "code",
   "execution_count": 14,
   "metadata": {},
   "outputs": [
    {
     "name": "stdout",
     "output_type": "stream",
     "text": [
      "WARNING:tensorflow:From C:\\Users\\eug_m\\Anaconda3\\lib\\site-packages\\tensorflow\\python\\ops\\math_ops.py:3066: to_int32 (from tensorflow.python.ops.math_ops) is deprecated and will be removed in a future version.\n",
      "Instructions for updating:\n",
      "Use tf.cast instead.\n",
      "Train on 400000 samples, validate on 100000 samples\n",
      "Epoch 1/100\n",
      "400000/400000 [==============================] - 14s 35us/step - loss: 0.1102 - mean_absolute_error: 0.2301 - val_loss: 0.0596 - val_mean_absolute_error: 0.1716\n",
      "Epoch 2/100\n",
      "400000/400000 [==============================] - 13s 34us/step - loss: 0.0515 - mean_absolute_error: 0.1555 - val_loss: 0.0416 - val_mean_absolute_error: 0.1388\n",
      "Epoch 3/100\n",
      "400000/400000 [==============================] - 15s 36us/step - loss: 0.0420 - mean_absolute_error: 0.1390 - val_loss: 0.0309 - val_mean_absolute_error: 0.1198\n",
      "Epoch 4/100\n",
      "400000/400000 [==============================] - 14s 35us/step - loss: 0.0390 - mean_absolute_error: 0.1340 - val_loss: 0.0420 - val_mean_absolute_error: 0.1391\n",
      "Epoch 5/100\n",
      "400000/400000 [==============================] - 15s 37us/step - loss: 0.0374 - mean_absolute_error: 0.1315 - val_loss: 0.0623 - val_mean_absolute_error: 0.1672\n",
      "Epoch 6/100\n",
      "400000/400000 [==============================] - 14s 36us/step - loss: 0.0364 - mean_absolute_error: 0.1299 - val_loss: 0.0306 - val_mean_absolute_error: 0.1200\n",
      "Epoch 7/100\n",
      "400000/400000 [==============================] - 15s 37us/step - loss: 0.0355 - mean_absolute_error: 0.1283 - val_loss: 0.0339 - val_mean_absolute_error: 0.1269\n",
      "Epoch 8/100\n",
      "400000/400000 [==============================] - 14s 35us/step - loss: 0.0352 - mean_absolute_error: 0.1277 - val_loss: 0.0324 - val_mean_absolute_error: 0.1257\n",
      "Epoch 9/100\n",
      "400000/400000 [==============================] - 14s 35us/step - loss: 0.0344 - mean_absolute_error: 0.1267 - val_loss: 0.0371 - val_mean_absolute_error: 0.1321\n",
      "Epoch 10/100\n",
      "400000/400000 [==============================] - 14s 35us/step - loss: 0.0346 - mean_absolute_error: 0.1267 - val_loss: 0.0442 - val_mean_absolute_error: 0.1422\n",
      "Epoch 11/100\n",
      "400000/400000 [==============================] - 15s 38us/step - loss: 0.0258 - mean_absolute_error: 0.1130 - val_loss: 0.0259 - val_mean_absolute_error: 0.1128\n",
      "Epoch 20/100\n",
      "400000/400000 [==============================] - 14s 35us/step - loss: 0.0259 - mean_absolute_error: 0.1131 - val_loss: 0.0262 - val_mean_absolute_error: 0.1134\n",
      "Epoch 21/100\n",
      "400000/400000 [==============================] - 14s 35us/step - loss: 0.0258 - mean_absolute_error: 0.1131 - val_loss: 0.0271 - val_mean_absolute_error: 0.1151\n",
      "Epoch 22/100\n",
      "400000/400000 [==============================] - 14s 35us/step - loss: 0.0259 - mean_absolute_error: 0.1132 - val_loss: 0.0265 - val_mean_absolute_error: 0.1142\n",
      "Epoch 23/100\n",
      "400000/400000 [==============================] - 14s 36us/step - loss: 0.0257 - mean_absolute_error: 0.1129 - val_loss: 0.0261 - val_mean_absolute_error: 0.1139\n",
      "Epoch 24/100\n",
      "265216/400000 [==================>...........] - ETA: 4s - loss: 0.0257 - mean_absolute_error: 0.1129Epoch 31/100\n",
      "400000/400000 [==============================] - 15s 37us/step - loss: 0.0257 - mean_absolute_error: 0.1129 - val_loss: 0.0264 - val_mean_absolute_error: 0.1154\n",
      "Epoch 32/100\n",
      "400000/400000 [==============================] - 15s 37us/step - loss: 0.0257 - mean_absolute_error: 0.1130 - val_loss: 0.0247 - val_mean_absolute_error: 0.1106\n",
      "Epoch 33/100\n",
      "400000/400000 [==============================] - 15s 37us/step - loss: 0.0257 - mean_absolute_error: 0.1129 - val_loss: 0.0250 - val_mean_absolute_error: 0.1115\n",
      "Epoch 34/100\n",
      "400000/400000 [==============================] - 15s 38us/step - loss: 0.0257 - mean_absolute_error: 0.1129 - val_loss: 0.0248 - val_mean_absolute_error: 0.1113\n",
      "Epoch 35/100\n",
      "400000/400000 [==============================] - 15s 37us/step - loss: 0.0257 - mean_absolute_error: 0.1129 - val_loss: 0.0260 - val_mean_absolute_error: 0.1130\n",
      "Epoch 36/100\n",
      "400000/400000 [==============================] - 15s 37us/step - loss: 0.0257 - mean_absolute_error: 0.1129 - val_loss: 0.0251 - val_mean_absolute_error: 0.1124\n",
      "Epoch 37/100\n",
      "400000/400000 [==============================] - 14s 36us/step - loss: 0.0258 - mean_absolute_error: 0.1131 - val_loss: 0.0248 - val_mean_absolute_error: 0.1105\n",
      "Epoch 38/100\n",
      "400000/400000 [==============================] - 14s 36us/step - loss: 0.0257 - mean_absolute_error: 0.1128 - val_loss: 0.0258 - val_mean_absolute_error: 0.1130\n",
      "Epoch 39/100\n",
      "400000/400000 [==============================] - 14s 35us/step - loss: 0.0257 - mean_absolute_error: 0.1129 - val_loss: 0.0254 - val_mean_absolute_error: 0.1127\n",
      "Epoch 40/100\n",
      "400000/400000 [==============================] - 14s 34us/step - loss: 0.0258 - mean_absolute_error: 0.1131 - val_loss: 0.0251 - val_mean_absolute_error: 0.1113\n",
      "Epoch 00040: early stopping\n"
     ]
    }
   ],
   "source": [
    "epochs = 100\n",
    "batch_size = 128\n",
    "### Fit the model weights ###\n",
    "# Introduce Early Stopping\n",
    "earlystop = EarlyStopping(monitor = 'val_loss', patience=8, verbose=1)\n",
    "# Reduce Learning Rate when val_loss stops improving\n",
    "reduce_lr = ReduceLROnPlateau(monitor='val_loss', factor=0.2,\n",
    "                              patience=5, cooldown = 1, min_lr=0.0001)\n",
    "# Record on Tensorboard all the information\n",
    "#tboard = TensorBoard(log_dir = './logs', histogram_freq = 5, batch_size = batch_size,\n",
    "#                          update_freq='epoch')\n",
    "\n",
    "\n",
    "history = model.fit(X_train, y_train,\n",
    "          batch_size=batch_size,\n",
    "          epochs=epochs,\n",
    "          verbose=1,\n",
    "          validation_data=(X_test, y_test),\n",
    "          callbacks = [reduce_lr, earlystop]\n",
    "          )"
   ]
  },
  {
   "cell_type": "code",
   "execution_count": 15,
   "metadata": {},
   "outputs": [
    {
     "data": {
      "image/png": "[encoded data removed]",
      "text/plain": [
       "<Figure size 432x288 with 3 Axes>"
      ]
     },
     "metadata": {
      "needs_background": "light"
     },
     "output_type": "display_data"
    }
   ],
   "source": [
    "## TEST WINDOW ##\n",
    "\n",
    "F0 = 0.03; Ktest = F0 + Kpb/10000; T = 5; beta = 0; shift = 0;\n",
    "\n",
    "rho = 0.4; nu = 0.3; alphaaux = np.linspace(0.05,1.5, 50); param0 = []\n",
    "for i in range(len(alphaaux)):\n",
    "    vol_input_ind = []\n",
    "    for j in range(len(Kpb)):\n",
    "        aux = SABRnormal.normal_vol(Ktest[j],F0,T,alphaaux[i],beta,rho,nu,shift)\n",
    "        vol_input_ind.append(aux)\n",
    "    Xaux = np.hstack((Ktest,F0,vol_input_ind,T))\n",
    "    Xaux = Xaux.reshape(1,-1)\n",
    "    paramspred = model.predict(Xaux)\n",
    "    param0.append(paramspred[0][0])\n",
    "\n",
    "alpha = 0.8; nu = 0.3; rhoaux = np.linspace(-0.98,0.98, 50); param1 = []\n",
    "for i in range(len(rhoaux)):\n",
    "    vol_input_ind = []\n",
    "    for j in range(len(Kpb)):\n",
    "        aux = SABRnormal.normal_vol(Ktest[j],F0,T,alpha,beta,rhoaux[i],nu,shift)\n",
    "        vol_input_ind.append(aux)\n",
    "    Xaux = np.hstack((Ktest,F0,vol_input_ind,T))\n",
    "    Xaux = Xaux.reshape(1,-1)\n",
    "    paramspred = model.predict(Xaux)\n",
    "    param1.append(paramspred[0][1])\n",
    "\n",
    "alpha = 0.8; rho = 0.4; nuaux = np.linspace(0.01,0.7, 50); param2 = []\n",
    "for i in range(len(nuaux)):\n",
    "    vol_input_ind = []\n",
    "    for j in range(len(Kpb)):\n",
    "        aux = SABRnormal.normal_vol(Ktest[j],F0,T,alpha,beta,rho,nuaux[i],shift)\n",
    "        vol_input_ind.append(aux)\n",
    "    Xaux = np.hstack((Ktest,F0,vol_input_ind,T))\n",
    "    Xaux = Xaux.reshape(1,-1)\n",
    "    paramspred = model.predict(Xaux)\n",
    "    param2.append(paramspred[0][1])\n",
    "\n",
    "\n",
    "plt.subplot(311)\n",
    "plt.plot(alphaaux,np.abs((param0-alphaaux)/alphaaux),'o-'); plt.title('Relative error in alpha');\n",
    "plt.yscale('log')\n",
    "\n",
    "plt.subplot(312)\n",
    "plt.plot(rhoaux,np.abs((param1-rhoaux)/rhoaux),'o-'); plt.title('Relative error in rho');\n",
    "plt.yscale('log')\n",
    "\n",
    "plt.subplot(313)\n",
    "plt.plot(nuaux,np.abs((param2-nuaux)/nuaux),'o-'); plt.title('Relative error in nu');\n",
    "plt.yscale('log')\n",
    "plt.tight_layout()\n",
    "plt.show()"
   ]
  },
  {
   "cell_type": "code",
   "execution_count": null,
   "metadata": {},
   "outputs": [],
   "source": []
  }
 ],
 "metadata": {
  "kernelspec": {
   "display_name": "Python 3",
   "language": "python",
   "name": "python3"
  },
  "language_info": {
   "codemirror_mode": {
    "name": "ipython",
    "version": 3
   },
   "file_extension": ".py",
   "mimetype": "text/x-python",
   "name": "python",
   "nbconvert_exporter": "python",
   "pygments_lexer": "ipython3",
   "version": "3.7.1"
  }
 },
 "nbformat": 4,
 "nbformat_minor": 2
}
