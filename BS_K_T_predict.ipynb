{
 "cells": [
  {
   "cell_type": "code",
   "execution_count": 56,
   "metadata": {},
   "outputs": [],
   "source": [
    "import numpy as np\n",
    "from scipy.stats import norm   #import gaussian cdf and pdf"
   ]
  },
  {
   "cell_type": "code",
   "execution_count": 57,
   "metadata": {},
   "outputs": [],
   "source": [
    "# EVALUATE BS ..\n",
    "def BS_norm_price(F, K, T, vol):\n",
    "  sigma_sqrt_t = vol * np.sqrt(T)\n",
    "  d1 = (F - K) / sigma_sqrt_t\n",
    "  \n",
    "  return (F-K) * norm.cdf(d1) + sigma_sqrt_t * norm.pdf(d1)\n",
    "# ----------------------------------------------"
   ]
  },
  {
   "cell_type": "code",
   "execution_count": 58,
   "metadata": {},
   "outputs": [
    {
     "name": "stdout",
     "output_type": "stream",
     "text": [
      "[[ 1.24493519e-02  8.00000000e+00]\n",
      " [-1.19209822e-02  1.00000000e+00]\n",
      " [ 4.93189793e-02  9.00000000e+00]\n",
      " ...\n",
      " [-1.40784348e-03  2.00000000e+00]\n",
      " [ 8.36288166e-02  6.00000000e+00]\n",
      " [-2.39634086e-02  2.00000000e+00]]\n"
     ]
    }
   ],
   "source": [
    "size = 1000000    # sample size\n",
    "T = np.random.randint(1,10,size)\n",
    "K = np.random.random_sample(size) * 0.2 - 0.1; F = 0.01; vol = 0.01\n",
    "X = np.matrix(np.vstack((K,T))).T"
   ]
  },
  {
   "cell_type": "code",
   "execution_count": 59,
   "metadata": {},
   "outputs": [],
   "source": [
    "price = []\n",
    "for i,j in zip(K,T):\n",
    "    p = BS_norm_price(F,i,j,vol)\n",
    "    price.append(p)"
   ]
  },
  {
   "cell_type": "code",
   "execution_count": null,
   "metadata": {},
   "outputs": [],
   "source": [
    "X_train = X[:int(0.8*size)]; X_test = X[int(0.8*size):]\n",
    "y_train = price[:int(0.8*size)]; y_test = price[int(0.8*size):]"
   ]
  },
  {
   "cell_type": "code",
   "execution_count": null,
   "metadata": {},
   "outputs": [],
   "source": [
    "import keras\n",
    "from keras.models import Sequential\n",
    "from keras.layers import Dense, Dropout"
   ]
  },
  {
   "cell_type": "code",
   "execution_count": null,
   "metadata": {},
   "outputs": [],
   "source": [
    "model = Sequential()\n",
    "model.add(Dense(256, activation='elu', input_dim=2))\n",
    "model.add(Dense(128, activation='elu'))\n",
    "model.add(Dense(64, activation='elu'))\n",
    "model.add(Dense(32, activation='elu'))\n",
    "model.add(Dense(1, activation='elu'))"
   ]
  },
  {
   "cell_type": "code",
   "execution_count": null,
   "metadata": {},
   "outputs": [],
   "source": [
    "sgd = keras.optimizers.RMSprop(lr=0.001)\n",
    "model.compile(loss=keras.losses.mean_squared_error,\n",
    "              optimizer=sgd,\n",
    "              metrics=['mse'])  "
   ]
  },
  {
   "cell_type": "code",
   "execution_count": null,
   "metadata": {},
   "outputs": [
    {
     "name": "stdout",
     "output_type": "stream",
     "text": [
      "Train on 800000 samples, validate on 200000 samples\n",
      "Epoch 1/35\n",
      "800000/800000 [==============================] - 25s 31us/step - loss: 2.9630e-04 - mean_squared_error: 2.9630e-04 - val_loss: 3.9516e-06 - val_mean_squared_error: 3.9516e-06\n",
      "Epoch 2/35\n",
      "800000/800000 [==============================] - 27s 34us/step - loss: 1.5852e-04 - mean_squared_error: 1.5852e-04 - val_loss: 3.7532e-06 - val_mean_squared_error: 3.7532e-06\n",
      "Epoch 3/35\n",
      "800000/800000 [==============================] - 29s 36us/step - loss: 1.3515e-04 - mean_squared_error: 1.3515e-04 - val_loss: 7.3808e-04 - val_mean_squared_error: 7.3808e-04\n",
      "Epoch 4/35\n",
      "800000/800000 [==============================] - 30s 38us/step - loss: 1.3192e-04 - mean_squared_error: 1.3192e-04 - val_loss: 6.5862e-05 - val_mean_squared_error: 6.5862e-05\n",
      "Epoch 5/35\n",
      "800000/800000 [==============================] - 28s 35us/step - loss: 1.1397e-04 - mean_squared_error: 1.1397e-04 - val_loss: 3.3127e-06 - val_mean_squared_error: 3.3127e-06\n",
      "Epoch 6/35\n",
      "800000/800000 [==============================] - 26s 32us/step - loss: 8.3366e-05 - mean_squared_error: 8.3366e-05 - val_loss: 6.4084e-06 - val_mean_squared_error: 6.4084e-06\n",
      "Epoch 7/35\n",
      "277248/800000 [=========>....................] - ETA: 15s - loss: 1.1183e-04 - mean_squared_error: 1.1183e-04"
     ]
    }
   ],
   "source": [
    "epochs = 35\n",
    "batch_size = 128\n",
    "# Fit the model weights.\n",
    "history = model.fit(X_train, y_train,\n",
    "          batch_size=batch_size,\n",
    "          epochs=epochs,\n",
    "          verbose=1,\n",
    "          validation_data=(X_test, y_test))"
   ]
  },
  {
   "cell_type": "code",
   "execution_count": 66,
   "metadata": {},
   "outputs": [
    {
     "data": {
      "image/png": "[encoded data removed]",
      "text/plain": [
       "<Figure size 432x288 with 1 Axes>"
      ]
     },
     "metadata": {
      "needs_background": "light"
     },
     "output_type": "display_data"
    }
   ],
   "source": [
    "K_valid = np.linspace(-0.15, 0.15, 200); T = np.ones(len(K_valid))*3\n",
    "X_validation = np.matrix(np.vstack((K_valid,T))).T\n",
    "\n",
    "price_valid = []\n",
    "for i in K_valid:\n",
    "    p = BS_norm_price(F,i,T,vol)\n",
    "    price_valid.append(p)\n",
    "    \n",
    "#X_valid = np.hstack((np.ones([len(K_valid),3])*[F,T,vol],np.matrix(K_valid).T))\n",
    "price_predict = model.predict(X_validation)\n",
    "\n",
    "import matplotlib.pyplot as plt\n",
    "plt.figure()\n",
    "plt.plot(K_valid,price_valid);\n",
    "plt.plot(K_valid,price_predict,'rx');\n",
    "plt.plot(K_valid,price_valid, label = 'equation');\n",
    "plt.plot(K_valid,price_predict,'rx', label = 'ANN');\n",
    "plt.title('Ecuación vs red neuronal , T = 3y'); plt.ylabel('price'); plt.xlabel('Strike');"
   ]
  },
  {
   "cell_type": "code",
   "execution_count": null,
   "metadata": {},
   "outputs": [],
   "source": []
  }
 ],
 "metadata": {
  "kernelspec": {
   "display_name": "Python 3",
   "language": "python",
   "name": "python3"
  },
  "language_info": {
   "codemirror_mode": {
    "name": "ipython",
    "version": 3
   },
   "file_extension": ".py",
   "mimetype": "text/x-python",
   "name": "python",
   "nbconvert_exporter": "python",
   "pygments_lexer": "ipython3",
   "version": "3.7.1"
  }
 },
 "nbformat": 4,
 "nbformat_minor": 2
}
