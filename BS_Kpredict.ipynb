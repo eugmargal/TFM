{
 "cells": [
  {
   "cell_type": "markdown",
   "metadata": {},
   "source": [
    "La red neuronal va a tener 4 capas ocultas, y todas las capas tendrán como función de activación elu. Aunque es la más costosa computacionalmente, se observa que es la que mejores resultados proporciona entre el resto en este caso, para todas las capas. En el caso de la función Relu, aparece más \"rectificada\", aunque similar a la ELU, y en el resto (sigmoidal, tanh, linear...) los resultados obtenidos son peores.\n",
    "\n",
    "Como optimizador he utilizado el algoritmo RMSprop, y como función a minimizar MSE\n",
    "\n",
    "He probado con diferentes técnicas de regularización: Dropout, L2... pero los resultados son peores, esta es la combinación que obtiene mejores resultados (menor mse), aunque sí he observado que cuanto mayor sea el tamaño de la muestra se obtiene una aproximación mejor, y lo mismo para el número de capas, aunque por ejemplo para el caso de entre 3 y 4 capas la diferencia es muy pequeña."
   ]
  },
  {
   "cell_type": "code",
   "execution_count": 29,
   "metadata": {},
   "outputs": [],
   "source": [
    "import numpy as np\n",
    "from scipy.stats import norm   #import gaussian cdf and pdf"
   ]
  },
  {
   "cell_type": "code",
   "execution_count": 30,
   "metadata": {},
   "outputs": [],
   "source": [
    "# EVALUATE BS ..\n",
    "def BS_norm_price(F, K, T, vol):\n",
    "  sigma_sqrt_t = vol * np.sqrt(T)\n",
    "  d1 = (F - K) / sigma_sqrt_t\n",
    "  \n",
    "  return (F-K) * norm.cdf(d1) + sigma_sqrt_t * norm.pdf(d1)\n",
    "# ----------------------------------------------"
   ]
  },
  {
   "cell_type": "code",
   "execution_count": 31,
   "metadata": {},
   "outputs": [],
   "source": [
    "size = 100000    # sample size\n",
    "K = np.random.random_sample(size) * 0.2 - 0.1; F = 0.01; T = 5; vol = 0.01"
   ]
  },
  {
   "cell_type": "code",
   "execution_count": 32,
   "metadata": {},
   "outputs": [],
   "source": [
    "price = []\n",
    "for i in K:\n",
    "    p = BS_norm_price(F,i,T,vol)\n",
    "    price.append(p)"
   ]
  },
  {
   "cell_type": "code",
   "execution_count": 33,
   "metadata": {},
   "outputs": [],
   "source": [
    "X_train = K[:int(0.8*size)]; X_test = K[int(0.8*size):]\n",
    "y_train = price[:int(0.8*size)]; y_test = price[int(0.8*size):]"
   ]
  },
  {
   "cell_type": "code",
   "execution_count": 34,
   "metadata": {},
   "outputs": [],
   "source": [
    "import keras\n",
    "from keras.models import Sequential\n",
    "from keras.layers import Dense, Dropout"
   ]
  },
  {
   "cell_type": "code",
   "execution_count": 35,
   "metadata": {},
   "outputs": [],
   "source": [
    "model = Sequential()\n",
    "model.add(Dense(256, activation='elu', input_dim=1))\n",
    "model.add(Dense(128, activation='elu'))\n",
    "model.add(Dense(64, activation='elu'))\n",
    "model.add(Dense(32, activation='elu'))\n",
    "model.add(Dense(1, activation='elu'))"
   ]
  },
  {
   "cell_type": "code",
   "execution_count": 36,
   "metadata": {},
   "outputs": [],
   "source": [
    "sgd = keras.optimizers.RMSprop(lr=0.001)\n",
    "model.compile(loss=keras.losses.mean_squared_error,\n",
    "              optimizer=sgd,\n",
    "              metrics=['mse'])"
   ]
  },
  {
   "cell_type": "code",
   "execution_count": 39,
   "metadata": {},
   "outputs": [
    {
     "name": "stdout",
     "output_type": "stream",
     "text": [
      "Train on 80000 samples, validate on 20000 samples\n",
      "Epoch 1/35\n",
      "80000/80000 [==============================] - 2s 30us/step - loss: 1.3241e-05 - mean_squared_error: 1.3241e-05 - val_loss: 4.6632e-07 - val_mean_squared_error: 4.6632e-07\n",
      "Epoch 2/35\n",
      "80000/80000 [==============================] - 3s 31us/step - loss: 5.0917e-06 - mean_squared_error: 5.0917e-06 - val_loss: 1.1888e-06 - val_mean_squared_error: 1.1888e-06\n",
      "Epoch 3/35\n",
      "80000/80000 [==============================] - 2s 31us/step - loss: 3.9361e-06 - mean_squared_error: 3.9361e-06 - val_loss: 5.8917e-07 - val_mean_squared_error: 5.8917e-07\n",
      "Epoch 4/35\n",
      "80000/80000 [==============================] - 2s 31us/step - loss: 3.2827e-06 - mean_squared_error: 3.2827e-06 - val_loss: 2.9510e-06 - val_mean_squared_error: 2.9510e-06\n",
      "Epoch 5/35\n",
      "80000/80000 [==============================] - 3s 32us/step - loss: 3.0956e-06 - mean_squared_error: 3.0956e-06 - val_loss: 2.4221e-06 - val_mean_squared_error: 2.4221e-06\n",
      "Epoch 6/35\n",
      "80000/80000 [==============================] - 3s 35us/step - loss: 2.9817e-06 - mean_squared_error: 2.9817e-06 - val_loss: 4.5000e-07 - val_mean_squared_error: 4.5000e-07\n",
      "Epoch 7/35\n",
      "80000/80000 [==============================] - 3s 32us/step - loss: 2.8461e-06 - mean_squared_error: 2.8461e-06 - val_loss: 2.0594e-06 - val_mean_squared_error: 2.0594e-06\n",
      "Epoch 8/35\n",
      "80000/80000 [==============================] - 3s 32us/step - loss: 2.6933e-06 - mean_squared_error: 2.6933e-06 - val_loss: 3.7352e-06 - val_mean_squared_error: 3.7352e-06\n",
      "Epoch 9/35\n",
      "80000/80000 [==============================] - 2s 30us/step - loss: 2.7494e-06 - mean_squared_error: 2.7494e-06 - val_loss: 1.0819e-06 - val_mean_squared_error: 1.0819e-06\n",
      "Epoch 10/35\n",
      "80000/80000 [==============================] - 2s 31us/step - loss: 2.4693e-06 - mean_squared_error: 2.4693e-06 - val_loss: 2.7055e-06 - val_mean_squared_error: 2.7055e-06\n",
      "Epoch 11/35\n",
      "80000/80000 [==============================] - 2s 30us/step - loss: 2.6861e-06 - mean_squared_error: 2.6861e-06 - val_loss: 1.5331e-07 - val_mean_squared_error: 1.5331e-07\n",
      "Epoch 12/35\n",
      "80000/80000 [==============================] - 3s 34us/step - loss: 2.8159e-06 - mean_squared_error: 2.8159e-06 - val_loss: 8.2919e-07 - val_mean_squared_error: 8.2919e-07\n",
      "Epoch 13/35\n",
      "80000/80000 [==============================] - 2s 31us/step - loss: 2.4271e-06 - mean_squared_error: 2.4271e-06 - val_loss: 1.6817e-07 - val_mean_squared_error: 1.6817e-07\n",
      "Epoch 14/35\n",
      "80000/80000 [==============================] - 2s 31us/step - loss: 2.3650e-06 - mean_squared_error: 2.3650e-06 - val_loss: 2.9402e-06 - val_mean_squared_error: 2.9402e-06\n",
      "Epoch 15/35\n",
      "80000/80000 [==============================] - 2s 30us/step - loss: 2.6176e-06 - mean_squared_error: 2.6176e-06 - val_loss: 1.7392e-07 - val_mean_squared_error: 1.7392e-07\n",
      "Epoch 16/35\n",
      "80000/80000 [==============================] - 2s 31us/step - loss: 2.2849e-06 - mean_squared_error: 2.2849e-06 - val_loss: 1.2572e-06 - val_mean_squared_error: 1.2572e-06\n",
      "Epoch 17/35\n",
      "80000/80000 [==============================] - 3s 35us/step - loss: 2.6708e-06 - mean_squared_error: 2.6708e-06 - val_loss: 7.5974e-06 - val_mean_squared_error: 7.5974e-06\n",
      "Epoch 18/35\n",
      "80000/80000 [==============================] - 3s 39us/step - loss: 2.6411e-06 - mean_squared_error: 2.6411e-06 - val_loss: 7.0075e-08 - val_mean_squared_error: 7.0075e-08\n",
      "Epoch 19/35\n",
      "80000/80000 [==============================] - 3s 34us/step - loss: 2.4878e-06 - mean_squared_error: 2.4878e-06 - val_loss: 1.0649e-06 - val_mean_squared_error: 1.0649e-06\n",
      "Epoch 20/35\n",
      "80000/80000 [==============================] - 3s 34us/step - loss: 3.0779e-06 - mean_squared_error: 3.0779e-06 - val_loss: 1.7425e-05 - val_mean_squared_error: 1.7425e-05\n",
      "Epoch 21/35\n",
      "80000/80000 [==============================] - 3s 37us/step - loss: 2.4169e-06 - mean_squared_error: 2.4169e-06 - val_loss: 3.5326e-06 - val_mean_squared_error: 3.5326e-06\n",
      "Epoch 22/35\n",
      "80000/80000 [==============================] - 3s 33us/step - loss: 2.5207e-06 - mean_squared_error: 2.5207e-06 - val_loss: 1.9964e-06 - val_mean_squared_error: 1.9964e-06\n",
      "Epoch 23/35\n",
      "80000/80000 [==============================] - 3s 33us/step - loss: 2.4621e-06 - mean_squared_error: 2.4621e-06 - val_loss: 1.2656e-06 - val_mean_squared_error: 1.2656e-06\n",
      "Epoch 24/35\n",
      "80000/80000 [==============================] - 3s 37us/step - loss: 3.4737e-06 - mean_squared_error: 3.4737e-06 - val_loss: 8.5276e-08 - val_mean_squared_error: 8.5276e-08\n",
      "Epoch 25/35\n",
      "80000/80000 [==============================] - 3s 34us/step - loss: 2.4813e-06 - mean_squared_error: 2.4813e-06 - val_loss: 6.8440e-06 - val_mean_squared_error: 6.8440e-06\n",
      "Epoch 26/35\n",
      "80000/80000 [==============================] - 3s 34us/step - loss: 2.3665e-06 - mean_squared_error: 2.3665e-06 - val_loss: 4.2504e-06 - val_mean_squared_error: 4.2504e-06\n",
      "Epoch 27/35\n",
      "80000/80000 [==============================] - 3s 34us/step - loss: 2.3552e-06 - mean_squared_error: 2.3552e-06 - val_loss: 1.4619e-06 - val_mean_squared_error: 1.4619e-06\n",
      "Epoch 28/35\n",
      "80000/80000 [==============================] - 3s 34us/step - loss: 2.3735e-06 - mean_squared_error: 2.3735e-06 - val_loss: 2.3445e-06 - val_mean_squared_error: 2.3445e-06\n",
      "Epoch 29/35\n",
      "80000/80000 [==============================] - 3s 34us/step - loss: 2.2642e-06 - mean_squared_error: 2.2642e-06 - val_loss: 1.6805e-05 - val_mean_squared_error: 1.6805e-05\n",
      "Epoch 30/35\n",
      "80000/80000 [==============================] - 3s 37us/step - loss: 3.7640e-06 - mean_squared_error: 3.7640e-06 - val_loss: 1.0960e-06 - val_mean_squared_error: 1.0960e-06\n",
      "Epoch 31/35\n",
      "80000/80000 [==============================] - 3s 33us/step - loss: 4.0386e-06 - mean_squared_error: 4.0386e-06 - val_loss: 1.5249e-07 - val_mean_squared_error: 1.5249e-07\n",
      "Epoch 32/35\n",
      "80000/80000 [==============================] - 3s 33us/step - loss: 3.6361e-06 - mean_squared_error: 3.6361e-06 - val_loss: 3.7827e-08 - val_mean_squared_error: 3.7827e-08\n",
      "Epoch 33/35\n",
      "80000/80000 [==============================] - 3s 33us/step - loss: 8.5500e-06 - mean_squared_error: 8.5500e-06 - val_loss: 3.2768e-05 - val_mean_squared_error: 3.2768e-05\n",
      "Epoch 34/35\n",
      "80000/80000 [==============================] - 3s 33us/step - loss: 5.8428e-06 - mean_squared_error: 5.8428e-06 - val_loss: 2.3086e-05 - val_mean_squared_error: 2.3086e-05\n",
      "Epoch 35/35\n",
      "80000/80000 [==============================] - 3s 33us/step - loss: 5.5622e-06 - mean_squared_error: 5.5622e-06 - val_loss: 2.5911e-06 - val_mean_squared_error: 2.5911e-06\n"
     ]
    }
   ],
   "source": [
    "epochs = 35\n",
    "batch_size = 128\n",
    "# Fit the model weights.\n",
    "history = model.fit(X_train, y_train,\n",
    "          batch_size=batch_size,\n",
    "          epochs=epochs,\n",
    "          validation_data=(X_test, y_test))"
   ]
  },
  {
   "cell_type": "code",
   "execution_count": 42,
   "metadata": {},
   "outputs": [
    {
     "data": {
      "image/png": "[encoded data removed]",
      "text/plain": [
       "<Figure size 432x288 with 1 Axes>"
      ]
     },
     "metadata": {
      "needs_background": "light"
     },
     "output_type": "display_data"
    }
   ],
   "source": [
    "K_valid = np.linspace(-0.15, 0.15, 200)\n",
    "\n",
    "price_valid = []\n",
    "for i in K_valid:\n",
    "    p = BS_norm_price(F,i,T,vol)\n",
    "    price_valid.append(p)\n",
    "    \n",
    "#X_valid = np.hstack((np.ones([len(K_valid),3])*[F,T,vol],np.matrix(K_valid).T))\n",
    "price_predict = model.predict(K_valid)\n",
    "\n",
    "import matplotlib.pyplot as plt\n",
    "plt.figure()\n",
    "plt.plot(K_valid,price_valid, label = 'equation');\n",
    "plt.plot(K_valid,price_predict,'rx', label = 'ANN');\n",
    "plt.title('Ecuación vs red neuronal'); plt.ylabel('price'); plt.xlabel('Strike');"
   ]
  },
  {
   "cell_type": "code",
   "execution_count": null,
   "metadata": {},
   "outputs": [],
   "source": []
  }
 ],
 "metadata": {
  "kernelspec": {
   "display_name": "Python 3",
   "language": "python",
   "name": "python3"
  },
  "language_info": {
   "codemirror_mode": {
    "name": "ipython",
    "version": 3
   },
   "file_extension": ".py",
   "mimetype": "text/x-python",
   "name": "python",
   "nbconvert_exporter": "python",
   "pygments_lexer": "ipython3",
   "version": "3.7.1"
  }
 },
 "nbformat": 4,
 "nbformat_minor": 2
}
